{
 "cells": [
  {
   "cell_type": "markdown",
   "id": "596032b9",
   "metadata": {},
   "source": [
    "### 1. Посмотреть документацию к API GitHub, разобраться как вывести список репозиториев для конкретного пользователя, сохранить JSON-вывод в файле *.json.\n"
   ]
  },
  {
   "cell_type": "code",
   "execution_count": 1,
   "id": "5e5e331e",
   "metadata": {},
   "outputs": [],
   "source": [
    "import requests\n",
    "import json\n"
   ]
  },
  {
   "cell_type": "code",
   "execution_count": 2,
   "id": "6c25b875",
   "metadata": {},
   "outputs": [],
   "source": [
    "url = 'https://api.github.com'\n",
    "user = 'KulkovIvan'"
   ]
  },
  {
   "cell_type": "code",
   "execution_count": 3,
   "id": "2afd0270",
   "metadata": {},
   "outputs": [],
   "source": [
    "response = requests.get(f'{url}/users/{user}/repos')"
   ]
  },
  {
   "cell_type": "markdown",
   "id": "9f5f593a",
   "metadata": {},
   "source": [
    "#### Выводим список репозиторев пользователя "
   ]
  },
  {
   "cell_type": "code",
   "execution_count": 4,
   "id": "5c274db2",
   "metadata": {},
   "outputs": [
    {
     "name": "stdout",
     "output_type": "stream",
     "text": [
      "geekbrains_python\n",
      "GeekPython\n",
      "mysql\n",
      "Numpy-Matplotlib-Scikit-learn\n",
      "parcing\n",
      "Python\n",
      "Python-basic\n",
      "python-DATA-Science\n",
      "Python-Data-Science-Numpy-Matplotlib-Scikit-learn\n",
      "repo-github\n",
      "repo-gui\n"
     ]
    }
   ],
   "source": [
    "for i in response.json():\n",
    "    print(i['name'])"
   ]
  },
  {
   "cell_type": "markdown",
   "id": "96594bc4",
   "metadata": {},
   "source": [
    "#### Сохраним вывод в файл\n"
   ]
  },
  {
   "cell_type": "code",
   "execution_count": 5,
   "id": "cd4c03d5",
   "metadata": {},
   "outputs": [],
   "source": [
    "with open('kulkov.json', 'w') as f:\n",
    "    json.dump(response.json(), f)\n",
    "    "
   ]
  },
  {
   "cell_type": "code",
   "execution_count": null,
   "id": "b5d42c0d",
   "metadata": {},
   "outputs": [],
   "source": []
  }
 ],
 "metadata": {
  "kernelspec": {
   "display_name": "Python 3",
   "language": "python",
   "name": "python3"
  },
  "language_info": {
   "codemirror_mode": {
    "name": "ipython",
    "version": 3
   },
   "file_extension": ".py",
   "mimetype": "text/x-python",
   "name": "python",
   "nbconvert_exporter": "python",
   "pygments_lexer": "ipython3",
   "version": "3.8.8"
  }
 },
 "nbformat": 4,
 "nbformat_minor": 5
}
