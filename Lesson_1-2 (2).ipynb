{
 "cells": [
  {
   "cell_type": "markdown",
   "id": "bd075401",
   "metadata": {},
   "source": [
    "### 2. Изучить список открытых API. Найти среди них любое, требующее авторизацию (любого типа). Выполнить запросы к нему, пройдя авторизацию. Ответ сервера записать в файл."
   ]
  },
  {
   "cell_type": "code",
   "execution_count": 3,
   "id": "f8f18526",
   "metadata": {},
   "outputs": [
    {
     "name": "stdout",
     "output_type": "stream",
     "text": [
      "Requirement already satisfied: vk_api in c:\\programdata\\anaconda3\\lib\\site-packages (11.9.6)\n",
      "Requirement already satisfied: requests in c:\\programdata\\anaconda3\\lib\\site-packages (from vk_api) (2.25.1)\n",
      "Requirement already satisfied: chardet<5,>=3.0.2 in c:\\programdata\\anaconda3\\lib\\site-packages (from requests->vk_api) (4.0.0)\n",
      "Requirement already satisfied: certifi>=2017.4.17 in c:\\programdata\\anaconda3\\lib\\site-packages (from requests->vk_api) (2020.12.5)\n",
      "Requirement already satisfied: urllib3<1.27,>=1.21.1 in c:\\programdata\\anaconda3\\lib\\site-packages (from requests->vk_api) (1.26.4)\n",
      "Requirement already satisfied: idna<3,>=2.5 in c:\\programdata\\anaconda3\\lib\\site-packages (from requests->vk_api) (2.10)\n",
      "Note: you may need to restart the kernel to use updated packages.\n"
     ]
    }
   ],
   "source": [
    "pip install vk_api\n"
   ]
  },
  {
   "cell_type": "code",
   "execution_count": 4,
   "id": "ef88a88e",
   "metadata": {},
   "outputs": [],
   "source": [
    "import vk_api\n",
    "import requests\n",
    "import json"
   ]
  },
  {
   "cell_type": "code",
   "execution_count": 5,
   "id": "9d0d2763",
   "metadata": {},
   "outputs": [],
   "source": [
    "session = vk_api.VkApi(token=\"*****\")\n",
    "vk = session.get_api()"
   ]
  },
  {
   "cell_type": "markdown",
   "id": "5b05ee01",
   "metadata": {},
   "source": [
    "#### Функция для вывода групп пользователя"
   ]
  },
  {
   "cell_type": "code",
   "execution_count": 7,
   "id": "baeddef6",
   "metadata": {},
   "outputs": [],
   "source": [
    "def search_group_user(user_id):\n",
    "    group = session.method(\"groups.get\", {\"user_id\": user_id})\n",
    "    for group in group[\"items\"]:\n",
    "        gp = session.method(\"groups.getById\", {\"group_ids\": group})\n",
    "        print(gp)"
   ]
  },
  {
   "cell_type": "code",
   "execution_count": 8,
   "id": "f3127015",
   "metadata": {},
   "outputs": [
    {
     "name": "stdout",
     "output_type": "stream",
     "text": [
      "[{'id': 30532220, 'name': 'СМС приколы :D', 'screen_name': 'i4sms', 'is_closed': 0, 'type': 'page', 'is_admin': 0, 'is_member': 1, 'is_advertiser': 0, 'photo_50': 'https://sun1-87.userapi.com/s/v1/if2/O6jFKwCTFk7HqXH-mXp56GoFQSs0nH64QHm-pbkEDz0552KggTLpxnTMX3GdcJpP7QVewKLIanarYooDNJKAejcD.jpg?size=50x50&quality=96&crop=64,92,327,327&ava=1', 'photo_100': 'https://sun1-87.userapi.com/s/v1/if2/vOf3FkKjR4BMQ9T0vg1hk3t5Pldtft4sSvh-lwGIONZVARGkz7zE6ZCuOb0BcrPllSu4fuHkI1s7_GMyn1FWGs8I.jpg?size=100x100&quality=96&crop=64,92,327,327&ava=1', 'photo_200': 'https://sun1-87.userapi.com/s/v1/if2/z5ktl4RJaJjeibtchSfJjj2IBJmN5ag1Ry1ILVnWd8nCJ50E2laYjR7Y9I_mdf2CSjouvRygA0kOnsKF3uOP5URf.jpg?size=200x200&quality=96&crop=64,92,327,327&ava=1'}]\n",
      "[{'id': 34274053, 'name': 'Интересная Москва', 'screen_name': 'mosc1', 'is_closed': 0, 'type': 'page', 'is_admin': 0, 'is_member': 1, 'is_advertiser': 0, 'photo_50': 'https://sun1-90.userapi.com/s/v1/if2/15ipu2QE4KQXKb_IB3eukH5_VB5x8oaHQy9w4k1kZ4JCnQ--2-Cg12ygdZX1FIdI2a3its5mhkSEYL12IZKN6Ebi.jpg?size=50x50&quality=96&crop=30,38,334,334&ava=1', 'photo_100': 'https://sun1-90.userapi.com/s/v1/if2/A3y9yxpl1eukPbcaX1TmoHlqIAChMvahr21DP5YiKfZfa2hzMT9QbIJWl3u_HitPWXz2qxo3CiGsiZOyLjeGl-iZ.jpg?size=100x100&quality=96&crop=30,38,334,334&ava=1', 'photo_200': 'https://sun1-90.userapi.com/s/v1/if2/U4NokqtPJEKUquxZQJE08M_vKdCauamLw6xnRlHGI8BVrrRle_0QJknzoxwJAuj1WgY-RpZDZ_FvGyRMh9uG7Jyc.jpg?size=200x200&quality=96&crop=30,38,334,334&ava=1'}]\n",
      "[{'id': 94010172, 'name': 'TESLA | SPC', 'screen_name': 'science_porn', 'is_closed': 0, 'type': 'page', 'is_admin': 0, 'is_member': 1, 'is_advertiser': 0, 'photo_50': 'https://sun1-14.userapi.com/s/v1/if2/xTA4OsGziiImi1UuutOtPFtm7SPwMHY7WuOLdqXNJNK_3ZmFniDl0zt4ICUt5otBFO-muov1IDP8QKyTKZHaW1N4.jpg?size=50x50&quality=96&crop=180,60,1820,1820&ava=1', 'photo_100': 'https://sun1-14.userapi.com/s/v1/if2/Elbn1VlZsYtV_Jg9O2C82I9Fb1Th_aOWkI4hxJ4-_Ol-7h96YQ9cEuL0v7Vi45GBMMdJo7Llgz1tT1PWViBjO8rf.jpg?size=100x100&quality=96&crop=180,60,1820,1820&ava=1', 'photo_200': 'https://sun1-14.userapi.com/s/v1/if2/_CGQr229savtAH8MZBZcbZ1eSLuDxw9Zy613Zz6hL1dsIrbFydEc_cpJR29QakJAiIApjq2WBZ90ybrPX2yuGdTw.jpg?size=200x200&quality=96&crop=180,60,1820,1820&ava=1'}]\n",
      "[{'id': 39193132, 'name': 'АВИАЦИЯ', 'screen_name': 'aviation__is__our__life', 'is_closed': 0, 'type': 'page', 'is_admin': 0, 'is_member': 1, 'is_advertiser': 0, 'photo_50': 'https://sun1-86.userapi.com/s/v1/if1/xwfcrZeSeixu5j2scRiTJu776AEsqxxKx4iim0JeRJXJJ5JTl3gP88Y6g7kMv_ak84uS2-4R.jpg?size=50x50&quality=96&crop=0,6,675,675&ava=1', 'photo_100': 'https://sun1-86.userapi.com/s/v1/if1/6TbEeFtopbH5PcFA5gTZuQHP1MRuvdAI9wqJz73T2Ub5MjUK7_lrllndNUTqDWyaKyotkgto.jpg?size=100x100&quality=96&crop=0,6,675,675&ava=1', 'photo_200': 'https://sun1-86.userapi.com/s/v1/if1/dMF1-olQ0H0f3zXVODcf19D3IP0jKxPRwZxJ-nB0taoQr2apxdyddeTnqPY_BRqgP0-o8lOR.jpg?size=200x200&quality=96&crop=0,6,675,675&ava=1'}]\n",
      "[{'id': 25557243, 'name': '[BadComedian]', 'screen_name': 'badcomedian', 'is_closed': 0, 'type': 'page', 'is_admin': 0, 'is_member': 1, 'is_advertiser': 0, 'photo_50': 'https://sun1-15.userapi.com/s/v1/if1/3x_-Chy5_wTPsUOHYnSg7I8_UztTM_1qJUWRdOwvEpWoeK5_KPGubfPzJdXFW6nJzbbWqzt7.jpg?size=50x50&quality=96&crop=0,0,962,962&ava=1', 'photo_100': 'https://sun1-15.userapi.com/s/v1/if1/v1zvrAm9jQG6Z59odin_xPYc2q8Mppi3GR6Pc1Gb-DJuvrEw_FN6gYmRegn3lZAKqXJxuRFM.jpg?size=100x100&quality=96&crop=0,0,962,962&ava=1', 'photo_200': 'https://sun1-15.userapi.com/s/v1/if1/3fF6cKKcvBRE_Fcw4SbI-8-Pl0fvDOfMIJBSqhxmifn39xjxP1lNAMRl9FEzpSKqH9y2grQb.jpg?size=200x200&quality=96&crop=0,0,962,962&ava=1'}]\n",
      "[{'id': 197872510, 'name': 'PvP на воротах Вальхаллы', 'screen_name': 'pvp_on_valhalla_age', 'is_closed': 0, 'type': 'page', 'is_admin': 0, 'is_member': 1, 'is_advertiser': 0, 'photo_50': 'https://sun1-15.userapi.com/s/v1/ig2/qiXa9OX-EWETw0frfL1bhf--JLfblbxS10fjpiJFVMr1E7DrUX4Iz-0WwO1dCXuHhTHHydMvxtu-o0yzbqWkrasy.jpg?size=50x50&quality=96&crop=11,0,423,423&ava=1', 'photo_100': 'https://sun1-15.userapi.com/s/v1/ig2/3K9b5w4VslYXhOy6qT5kOZS9GXB5Vpv7r8Gp6PQl-xOirFjBuUbFgO7rLm5fxunl9yBgVP9vDttNYBgvK-h9aud3.jpg?size=100x100&quality=96&crop=11,0,423,423&ava=1', 'photo_200': 'https://sun1-15.userapi.com/s/v1/ig2/cdiRvi_Ohzhi1y0-096zlE5uUeUOf2QoMTs8rDWFpjBCKUJabV2RFEOQHvoTetFqI_EC-Hb1KxBadtRasucdhOaD.jpg?size=200x200&quality=96&crop=11,0,423,423&ava=1'}]\n",
      "[{'id': 38228449, 'name': 'MAD', 'screen_name': 'maddy_zone', 'is_closed': 0, 'type': 'page', 'is_admin': 0, 'is_member': 1, 'is_advertiser': 0, 'photo_50': 'https://sun1-94.userapi.com/s/v1/if1/IuwU0cHE1ZR5FCcqkzn_StBBC1sYDZGdEQGvSMA9IS8KdNCwU13EoeXE_cy1Eih0u6-Y5Wsf.jpg?size=50x50&quality=96&crop=148,8,200,200&ava=1', 'photo_100': 'https://sun1-94.userapi.com/s/v1/if1/0UfQWm58i7taXi5sB_TojMd6I1K9DGKGJi3n0CVM0tDzCNXnSt2vGt5uRG1A_Uc646D_kJYJ.jpg?size=100x100&quality=96&crop=148,8,200,200&ava=1', 'photo_200': 'https://sun1-94.userapi.com/s/v1/if1/mspSx_o-j7pwVWDU4eS5jRge4OQuBES16WalMYTKhsSUuLnzIbxPU4ktXVq-jzQpoqZ6Bjvf.jpg?size=200x200&quality=96&crop=148,8,200,200&ava=1'}]\n",
      "[{'id': 297836, 'name': 'Игра Престолов  |  Ведьмак', 'screen_name': 'gameofthrones', 'is_closed': 0, 'type': 'group', 'is_admin': 0, 'is_member': 1, 'is_advertiser': 0, 'photo_50': 'https://sun1-83.userapi.com/s/v1/ig1/cHpeN4ddP3VRVsvo2Pu5ByfsYCN686Ti-Ttt3_3BYW-0EhjMRrtDYKOj5QEGYvaftpSRpOlW.jpg?size=50x50&quality=96&crop=4,35,936,936&ava=1', 'photo_100': 'https://sun1-83.userapi.com/s/v1/ig1/lYjdIkZKNoyNpEzdMSNYntFbq95YZr4Boz7IEOZazWhlYzpoxHCTg-U7EGz5-sYAm-RqSFGX.jpg?size=100x100&quality=96&crop=4,35,936,936&ava=1', 'photo_200': 'https://sun1-83.userapi.com/s/v1/ig1/D0RCrrv_O8vqVA9DaE_cM2tCvSbu3qf6fEl54vovXsALygbzGsbb4OlDy3QumDdmZY2deIfL.jpg?size=200x200&quality=96&crop=4,35,936,936&ava=1'}]\n",
      "[{'id': 134204425, 'name': 'LostFilm.TV | Официальная группа', 'screen_name': 'lostfilmtv_official', 'is_closed': 0, 'type': 'group', 'is_admin': 0, 'is_member': 1, 'is_advertiser': 0, 'photo_50': 'https://sun1-93.userapi.com/s/v1/if1/7_o-M4RvnBSyam2I8mwn52NfycWeN1Eam-4tyONzerxbPKSjWmVPMXSv6FxzEaIH-A1OpX6g.jpg?size=50x50&quality=96&crop=36,33,531,531&ava=1', 'photo_100': 'https://sun1-93.userapi.com/s/v1/if1/ZMtuE1DwPYvbgs_PuXYwslE7K3HLZuUXeWNG1BcKsedL_ekDLoQDUT5BmiA1nViIrej13oSq.jpg?size=100x100&quality=96&crop=36,33,531,531&ava=1', 'photo_200': 'https://sun1-93.userapi.com/s/v1/if1/MZI7NPG6WolVu-0c5KOoEaTfOpzPmSKeJzPTHcbC5X4ap3GYxn9AE6VRtJuQQcOJvrN-eert.jpg?size=200x200&quality=96&crop=36,33,531,531&ava=1'}]\n",
      "[{'id': 38415798, 'name': '2do2go: Москва', 'screen_name': 'intermsk', 'is_closed': 0, 'type': 'page', 'is_admin': 0, 'is_member': 1, 'is_advertiser': 0, 'photo_50': 'https://sun1-13.userapi.com/s/v1/if1/HQD102hVe2VX2zvB9vMe3DRZq6GLWoYhRUxkJXSXm6ASb7Cv2I_JEv7Ic2YXq72BNwGGp3aN.jpg?size=50x50&quality=96&crop=17,0,200,200&ava=1', 'photo_100': 'https://sun1-13.userapi.com/s/v1/if1/IJ-Iz330220r9jDPr1c10NOrEDNvTfI1y9l8VVr8397hpyr3QmkQ0VfjapaiHvpPsMy416lD.jpg?size=100x100&quality=96&crop=17,0,200,200&ava=1', 'photo_200': 'https://sun1-13.userapi.com/s/v1/if1/dVqN8qPRzrRfasHXkXSTWnI2v0-sfH2lW57_KTG2XzKe2EdWbdq2lAxIo3RAYRozynRbUtBq.jpg?size=200x200&quality=96&crop=17,0,200,200&ava=1'}]\n",
      "[{'id': 11969798, 'name': 'Кубик в кубе - официальная группа (kubik v kube)', 'screen_name': 'kubik3', 'is_closed': 0, 'type': 'group', 'is_admin': 0, 'is_member': 1, 'is_advertiser': 0, 'photo_50': 'https://sun1-28.userapi.com/s/v1/if1/d2SFYt5Tf4YSnGQKM46PkBjjTGVIsMXqH3j7IJDsE6vokrmBfz6_PwPaoNbeYvzj7Gjo4PIh.jpg?size=50x50&quality=96&crop=42,71,1836,1836&ava=1', 'photo_100': 'https://sun1-28.userapi.com/s/v1/if1/Ecx46NuqED781jpzfhj3zA0I1nMW4kwZfKD926blMPwImfDXulindsCuEnzj8T2WqLa5nnNY.jpg?size=100x100&quality=96&crop=42,71,1836,1836&ava=1', 'photo_200': 'https://sun1-28.userapi.com/s/v1/if1/RL6IbZ82si66Jv35x0EOo9K6aIMPF8sH5gw3HpEn8eUimxOuXrSn1bS77Ll8bkHu_VT42Kwk.jpg?size=200x200&quality=96&crop=42,71,1836,1836&ava=1'}]\n",
      "[{'id': 75832960, 'name': 'Lineage 2 Legacy', 'screen_name': 'lineage2legacy', 'is_closed': 0, 'type': 'group', 'is_admin': 0, 'is_member': 1, 'is_advertiser': 0, 'photo_50': 'https://sun1-30.userapi.com/s/v1/if1/HecWrrOcrtoFnZmYAkBON2fUq5fWtkawbF2JN6F7P3vv_47dSM_wCTtRlYvDHf4khogwPb28.jpg?size=50x50&quality=96&crop=0,0,256,256&ava=1', 'photo_100': 'https://sun1-30.userapi.com/s/v1/if1/MsmIXmPJCrzYHfuq9VtjtZu1xUg7ReVimAjU6vnj9pb7WCGgE9ucuAsEGVRJotjiDAZTCyGf.jpg?size=100x100&quality=96&crop=0,0,256,256&ava=1', 'photo_200': 'https://sun1-30.userapi.com/s/v1/if1/WI0YilE3nRXPtLf4hV4Ivtann2MMEXYJhSxPd0YCzFkMEUB2FlSzvmuLYiO7bzQDbPqDszS-.jpg?size=200x200&quality=96&crop=0,0,256,256&ava=1'}]\n",
      "[{'id': 179234013, 'name': 'Lineage 2 Essence', 'screen_name': 'lineage2essence', 'is_closed': 0, 'type': 'page', 'is_admin': 0, 'is_member': 1, 'is_advertiser': 0, 'photo_50': 'https://sun1-87.userapi.com/s/v1/if1/TK0IMvKJJcW327ZDFMf8LjCnp1gr8PwPnkNN8imjeuFqkBtBuRSQ5w-2cAdLJQH5Kd7IjPoR.jpg?size=50x50&quality=96&crop=0,0,200,200&ava=1', 'photo_100': 'https://sun1-87.userapi.com/s/v1/if1/fj61Ic9AFNTye3LzgJJAssr8-zL02VQz_n_68-SlG3I9Y132-Auuqqcr5cwXuT-e8MHyOxrL.jpg?size=100x100&quality=96&crop=0,0,200,200&ava=1', 'photo_200': 'https://sun1-87.userapi.com/s/v1/if1/u0b8ihfRuVFOJwp5dTgzr-ficuUoVaMaGTzhz9bOhvCBC3Ch8QOugOh0i-YWZyhrwDPzMe6P.jpg?size=200x200&quality=96&crop=0,0,200,200&ava=1'}]\n",
      "[{'id': 18385838, 'name': 'Game Pilot', 'screen_name': 'game_pilot', 'is_closed': 0, 'type': 'group', 'is_admin': 0, 'is_member': 1, 'is_advertiser': 0, 'photo_50': 'https://sun1-87.userapi.com/s/v1/if1/YxQX93f8QvOUbMpP3CsvTO4UXWI8aSGLAyQ-P0onuhNxB5-_dCbHuFtoMhjKB7bYZ_ZqByeU.jpg?size=50x50&quality=96&crop=0,0,356,356&ava=1', 'photo_100': 'https://sun1-87.userapi.com/s/v1/if1/Tgmdg0fb1ghR6nU5Et6SUoI0ZFwfJBprlLVtwoPJLxRa59OBrIh1uQmyKVYQajLrFxKn8td8.jpg?size=100x100&quality=96&crop=0,0,356,356&ava=1', 'photo_200': 'https://sun1-87.userapi.com/s/v1/if1/OYNAAJbGXLQ-iF96nYstn-nbg3EtNKYfIrLEU13UsqXGR_lMWO0FqDpWKixxopySOMAO4T9t.jpg?size=200x200&quality=96&crop=0,0,356,356&ava=1'}]\n",
      "[{'id': 7955306, 'name': 'ЭДЕМ 👑 18+', 'screen_name': 'edem_group', 'is_closed': 0, 'type': 'page', 'is_admin': 0, 'is_member': 1, 'is_advertiser': 0, 'photo_50': 'https://sun1-85.userapi.com/s/v1/ig2/nMlk9XjQDWoHypG2ILhnLW8laRf-9H6WcRcXiLkdu_PHf2oBr3m-iiTZmbDI1laXB1fuqamQxvXii72N1SunWSAQ.jpg?size=50x50&quality=96&crop=47,53,356,356&ava=1', 'photo_100': 'https://sun1-85.userapi.com/s/v1/ig2/hRyMMln4APTuHFqyQZfV1ojvqLLkLklVCb4bykIadx87DwQwf9EOxY_8r1RqwftCCTgBZWDmHPvvnRr_kG8VR8L9.jpg?size=100x100&quality=96&crop=47,53,356,356&ava=1', 'photo_200': 'https://sun1-85.userapi.com/s/v1/ig2/C6K2hNHqKzRSo1ZHCLTnoVKeAdT1UF9OjknslmNhFjFgOx0aCzFv0MMz9VM7lg79ols5Xc3l7Kqg1r4AF_yrzJ9U.jpg?size=200x200&quality=96&crop=47,53,356,356&ava=1'}]\n",
      "[{'id': 76470207, 'name': 'GOALTIME | ФУТБОЛ', 'screen_name': 'goaltime', 'is_closed': 0, 'type': 'page', 'is_admin': 0, 'is_member': 1, 'is_advertiser': 0, 'photo_50': 'https://sun1-13.userapi.com/s/v1/if1/fUgtAk470z2FcS8svoQVYukZEC_tV9b-wdEP7luNzKLD7qR-021TpLTq2ehRnYSQ7MRjQmZz.jpg?size=50x50&quality=96&crop=0,0,400,400&ava=1', 'photo_100': 'https://sun1-13.userapi.com/s/v1/if1/d9LY3WtpD_g1BxC_n2nLs97cElCmEztadZ2ju_ztx9WIVP16dQP_T3fwiFMje6aHkpAQevNr.jpg?size=100x100&quality=96&crop=0,0,400,400&ava=1', 'photo_200': 'https://sun1-13.userapi.com/s/v1/if1/v1f2JOA-Clmpun2ycKxJBv10eoJIKuuoeoFYbpwaPItAXNVYgGakRdI8kgoJ3i6nbhbKzM-j.jpg?size=200x200&quality=96&crop=0,0,400,400&ava=1'}]\n"
     ]
    }
   ],
   "source": [
    "search_group_user(6049800)"
   ]
  },
  {
   "cell_type": "markdown",
   "id": "7ea5eb7c",
   "metadata": {},
   "source": [
    "####  Более красивый вывод"
   ]
  },
  {
   "cell_type": "code",
   "execution_count": 11,
   "id": "d29f05a8",
   "metadata": {},
   "outputs": [],
   "source": [
    "def search_group_user(user_id):\n",
    "    group = session.method(\"groups.get\", {\"user_id\": user_id})\n",
    "    for group in group[\"items\"]:\n",
    "        gp = session.method(\"groups.getById\", {\"group_ids\": group})\n",
    "        print(f\"{gp[0]['name']}\")"
   ]
  },
  {
   "cell_type": "code",
   "execution_count": 12,
   "id": "9f5d7dbb",
   "metadata": {},
   "outputs": [
    {
     "name": "stdout",
     "output_type": "stream",
     "text": [
      "СМС приколы :D\n",
      "Интересная Москва\n",
      "TESLA | SPC\n",
      "АВИАЦИЯ\n",
      "[BadComedian]\n",
      "PvP на воротах Вальхаллы\n",
      "MAD\n",
      "Игра Престолов  |  Ведьмак\n",
      "LostFilm.TV | Официальная группа\n",
      "2do2go: Москва\n",
      "Кубик в кубе - официальная группа (kubik v kube)\n",
      "Lineage 2 Legacy\n",
      "Lineage 2 Essence\n",
      "Game Pilot\n",
      "ЭДЕМ 👑 18+\n",
      "GOALTIME | ФУТБОЛ\n"
     ]
    }
   ],
   "source": [
    "search_group_user(6049800)"
   ]
  },
  {
   "cell_type": "code",
   "execution_count": null,
   "id": "ba87f2e9",
   "metadata": {},
   "outputs": [],
   "source": []
  }
 ],
 "metadata": {
  "kernelspec": {
   "display_name": "Python 3",
   "language": "python",
   "name": "python3"
  },
  "language_info": {
   "codemirror_mode": {
    "name": "ipython",
    "version": 3
   },
   "file_extension": ".py",
   "mimetype": "text/x-python",
   "name": "python",
   "nbconvert_exporter": "python",
   "pygments_lexer": "ipython3",
   "version": "3.8.8"
  }
 },
 "nbformat": 4,
 "nbformat_minor": 5
}
