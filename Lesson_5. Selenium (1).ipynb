{
 "cells": [
  {
   "cell_type": "markdown",
   "id": "46b60d8b",
   "metadata": {},
   "source": [
    "### Написать программу, которая собирает товары «В тренде» с сайта техники mvideo и складывает данные в БД. Сайт можно выбрать и свой. Главный критерий выбора: динамически загружаемые товары"
   ]
  },
  {
   "cell_type": "code",
   "execution_count": 1,
   "id": "77248998",
   "metadata": {},
   "outputs": [
    {
     "name": "stdout",
     "output_type": "stream",
     "text": [
      "Collecting selenium\n",
      "  Using cached selenium-4.1.0-py3-none-any.whl (958 kB)\n",
      "Collecting trio-websocket~=0.9\n",
      "Note: you may need to restart the kernel to use updated packages.\n",
      "  Using cached trio_websocket-0.9.2-py3-none-any.whl (16 kB)\n",
      "Requirement already satisfied: urllib3[secure]~=1.26 in c:\\programdata\\anaconda3\\lib\\site-packages (from selenium) (1.26.4)\n",
      "Collecting trio~=0.17\n",
      "  Using cached trio-0.19.0-py3-none-any.whl (356 kB)\n",
      "Requirement already satisfied: idna in c:\\programdata\\anaconda3\\lib\\site-packages (from trio~=0.17->selenium) (2.10)\n",
      "Requirement already satisfied: cffi>=1.14 in c:\\programdata\\anaconda3\\lib\\site-packages (from trio~=0.17->selenium) (1.14.5)\n",
      "Requirement already satisfied: attrs>=19.2.0 in c:\\programdata\\anaconda3\\lib\\site-packages (from trio~=0.17->selenium) (20.3.0)\n",
      "Collecting outcome\n",
      "  Using cached outcome-1.1.0-py2.py3-none-any.whl (9.7 kB)\n",
      "Requirement already satisfied: sniffio in c:\\programdata\\anaconda3\\lib\\site-packages (from trio~=0.17->selenium) (1.2.0)\n",
      "Requirement already satisfied: async-generator>=1.9 in c:\\programdata\\anaconda3\\lib\\site-packages (from trio~=0.17->selenium) (1.10)\n",
      "Requirement already satisfied: sortedcontainers in c:\\programdata\\anaconda3\\lib\\site-packages (from trio~=0.17->selenium) (2.3.0)\n",
      "Requirement already satisfied: pycparser in c:\\programdata\\anaconda3\\lib\\site-packages (from cffi>=1.14->trio~=0.17->selenium) (2.20)\n",
      "Collecting wsproto>=0.14\n",
      "  Using cached wsproto-1.0.0-py3-none-any.whl (24 kB)\n",
      "Requirement already satisfied: certifi in c:\\programdata\\anaconda3\\lib\\site-packages (from urllib3[secure]~=1.26->selenium) (2020.12.5)\n",
      "Requirement already satisfied: pyOpenSSL>=0.14 in c:\\programdata\\anaconda3\\lib\\site-packages (from urllib3[secure]~=1.26->selenium) (20.0.1)\n",
      "Requirement already satisfied: cryptography>=1.3.4 in c:\\programdata\\anaconda3\\lib\\site-packages (from urllib3[secure]~=1.26->selenium) (3.4.7)\n",
      "Requirement already satisfied: six>=1.5.2 in c:\\programdata\\anaconda3\\lib\\site-packages (from pyOpenSSL>=0.14->urllib3[secure]~=1.26->selenium) (1.15.0)\n",
      "Collecting h11<1,>=0.9.0\n",
      "  Using cached h11-0.12.0-py3-none-any.whl (54 kB)\n",
      "Installing collected packages: outcome, h11, wsproto, trio, trio-websocket, selenium\n",
      "Successfully installed h11-0.12.0 outcome-1.1.0 selenium-4.1.0 trio-0.19.0 trio-websocket-0.9.2 wsproto-1.0.0\n"
     ]
    }
   ],
   "source": [
    "pip install selenium\n"
   ]
  },
  {
   "cell_type": "markdown",
   "id": "bfdfe278",
   "metadata": {},
   "source": [
    "#### загружаем нужные библиотеки"
   ]
  },
  {
   "cell_type": "code",
   "execution_count": 3,
   "id": "64c768b8",
   "metadata": {},
   "outputs": [],
   "source": [
    "from selenium import webdriver\n",
    "from selenium.webdriver.common.by import By\n",
    "from selenium.webdriver.common.keys import Keys\n",
    "from selenium.webdriver.chrome.options import Options\n",
    "from selenium.webdriver.common.action_chains import ActionChains\n",
    "from selenium.webdriver.support.ui import WebDriverWait\n",
    "from selenium.webdriver.support import expected_conditions as EC\n",
    "from pymongo import MongoClient\n",
    "import pandas as pd"
   ]
  },
  {
   "cell_type": "code",
   "execution_count": 5,
   "id": "03095e55",
   "metadata": {},
   "outputs": [],
   "source": [
    "client = MongoClient('localhost', 27017)\n",
    "db = client['selenium']\n",
    "collection = db['mvideos']"
   ]
  },
  {
   "cell_type": "code",
   "execution_count": 7,
   "id": "0c020039",
   "metadata": {},
   "outputs": [
    {
     "name": "stderr",
     "output_type": "stream",
     "text": [
      "<ipython-input-7-97043fda55d1>:3: DeprecationWarning: executable_path has been deprecated, please pass in a Service object\n",
      "  driver = webdriver.Chrome(executable_path='chromedriver.exe', options=chrome_options)\n"
     ]
    }
   ],
   "source": [
    "chrome_options = Options()\n",
    "chrome_options.add_argument(\"--start-maximized\")\n",
    "driver = webdriver.Chrome(executable_path='chromedriver.exe', options=chrome_options)\n",
    "driver.implicitly_wait(10)\n",
    "driver.get('https://www.mvideo.ru/')\n",
    "wait = WebDriverWait(driver, 2)"
   ]
  },
  {
   "cell_type": "code",
   "execution_count": 8,
   "id": "867d0e22",
   "metadata": {},
   "outputs": [],
   "source": [
    "while True:\n",
    "    try:\n",
    "        element = wait.until(\n",
    "            EC.presence_of_element_located((By.XPATH, \"//span[contains(text(),'В тренде')]\"))\n",
    "        )\n",
    "        element.click()\n",
    "        break\n",
    "    except:\n",
    "        actions = ActionChains(driver)\n",
    "        actions.key_down(Keys.PAGE_DOWN).key_up(Keys.PAGE_DOWN).key_down(Keys.PAGE_DOWN).key_up(Keys.PAGE_DOWN)\n",
    "        actions.perform()"
   ]
  },
  {
   "cell_type": "code",
   "execution_count": 9,
   "id": "1d0e7b32",
   "metadata": {},
   "outputs": [],
   "source": [
    "while True:\n",
    "    try:\n",
    "\n",
    "        next = wait.until(EC.element_to_be_clickable((By.XPATH, \"//mvid-shelf-group/*/div[2]/button[2]\")))\n",
    "        next.click()\n",
    "    except:\n",
    "        break"
   ]
  },
  {
   "cell_type": "code",
   "execution_count": 10,
   "id": "f99529b2",
   "metadata": {},
   "outputs": [],
   "source": [
    "elements = driver.find_elements(By.XPATH, '//mvid-shelf-group//a[@class=\"img-with-badge\"]')\n",
    "links = [i.get_attribute('href') for i in elements]\n",
    "for i in links:\n",
    "    position = {}\n",
    "    driver.get(i)\n",
    "    code = driver.find_element(By.CLASS_NAME, 'product-code-container').text\n",
    "    name = driver.find_element(By.XPATH, '//h1[@class=\"title\"]').text\n",
    "    cost = driver.find_element(By.CLASS_NAME, 'price__main-value').text\n",
    "    \n",
    "    position[\"Код Товара\"] = code\n",
    "    position[\"Ссылка\"] = i\n",
    "    position[\"Цена\"] = cost\n",
    "    position[\"Название\"] = name\n",
    "    \n",
    "    collection.update_one({'Ссылка': position['Ссылка']}, {'$set' : position}, upsert=True)"
   ]
  },
  {
   "cell_type": "code",
   "execution_count": 11,
   "id": "666516eb",
   "metadata": {},
   "outputs": [],
   "source": [
    "df = pd.DataFrame([i for i in collection.find({})])"
   ]
  },
  {
   "cell_type": "code",
   "execution_count": 14,
   "id": "975794bc",
   "metadata": {},
   "outputs": [
    {
     "data": {
      "text/html": [
       "<div>\n",
       "<style scoped>\n",
       "    .dataframe tbody tr th:only-of-type {\n",
       "        vertical-align: middle;\n",
       "    }\n",
       "\n",
       "    .dataframe tbody tr th {\n",
       "        vertical-align: top;\n",
       "    }\n",
       "\n",
       "    .dataframe thead th {\n",
       "        text-align: right;\n",
       "    }\n",
       "</style>\n",
       "<table border=\"1\" class=\"dataframe\">\n",
       "  <thead>\n",
       "    <tr style=\"text-align: right;\">\n",
       "      <th></th>\n",
       "      <th>_id</th>\n",
       "      <th>Ссылка</th>\n",
       "      <th>Код Товара</th>\n",
       "      <th>Название</th>\n",
       "      <th>Цена</th>\n",
       "    </tr>\n",
       "  </thead>\n",
       "  <tbody>\n",
       "    <tr>\n",
       "      <th>0</th>\n",
       "      <td>61b2006eb8d1ab28a80adbfb</td>\n",
       "      <td>https://www.mvideo.ru/products/noutbuk-acer-sw...</td>\n",
       "      <td>Код товара: 3005 7260</td>\n",
       "      <td>Ноутбук Acer Swift 1 SF114-34-C564 NX.A74ER.002</td>\n",
       "      <td>30 999 ₽</td>\n",
       "    </tr>\n",
       "    <tr>\n",
       "      <th>1</th>\n",
       "      <td>61b2006fb8d1ab28a80adbfd</td>\n",
       "      <td>https://www.mvideo.ru/products/smartfon-huawei...</td>\n",
       "      <td>Код товара: 3005 3815</td>\n",
       "      <td>Смартфон Huawei P Smart 2021 4+128GB Crush Gre...</td>\n",
       "      <td>30 999 ₽</td>\n",
       "    </tr>\n",
       "    <tr>\n",
       "      <th>2</th>\n",
       "      <td>61b20071b8d1ab28a80adc00</td>\n",
       "      <td>https://www.mvideo.ru/products/naushniki-true-...</td>\n",
       "      <td>Код товара: 5014 1149</td>\n",
       "      <td>Наушники True Wireless Samsung Galaxy Buds Liv...</td>\n",
       "      <td>9 999 ₽</td>\n",
       "    </tr>\n",
       "    <tr>\n",
       "      <th>3</th>\n",
       "      <td>61b20073b8d1ab28a80adc02</td>\n",
       "      <td>https://www.mvideo.ru/products/podpiska-mprime...</td>\n",
       "      <td>Код товара: 6016151</td>\n",
       "      <td>Подписка M.Prime на 1 месяц + Яндекс.Плюс</td>\n",
       "      <td>499 ₽</td>\n",
       "    </tr>\n",
       "    <tr>\n",
       "      <th>4</th>\n",
       "      <td>61b20074b8d1ab28a80adc04</td>\n",
       "      <td>https://www.mvideo.ru/products/konvektor-hyund...</td>\n",
       "      <td>Код товара: 2005 5370</td>\n",
       "      <td>Конвектор Hyundai H-HV21-15-UI662</td>\n",
       "      <td>499 ₽</td>\n",
       "    </tr>\n",
       "    <tr>\n",
       "      <th>5</th>\n",
       "      <td>61b20076b8d1ab28a80adc07</td>\n",
       "      <td>https://www.mvideo.ru/products/smart-chasy-sam...</td>\n",
       "      <td>Код товара: 3005 1392</td>\n",
       "      <td>Смарт-часы Samsung Galaxy Watch3 45mm Черные (...</td>\n",
       "      <td>25 499 ₽</td>\n",
       "    </tr>\n",
       "    <tr>\n",
       "      <th>6</th>\n",
       "      <td>61b20078b8d1ab28a80adc09</td>\n",
       "      <td>https://www.mvideo.ru/products/elektrogril-tef...</td>\n",
       "      <td>Код товара: 2003 6709</td>\n",
       "      <td>Электрогриль Tefal Supergrill GC450B32</td>\n",
       "      <td>25 499 ₽</td>\n",
       "    </tr>\n",
       "    <tr>\n",
       "      <th>7</th>\n",
       "      <td>61b2007ab8d1ab28a80adc0b</td>\n",
       "      <td>https://www.mvideo.ru/products/elektrochainik-...</td>\n",
       "      <td>Код товара: 2007 4031</td>\n",
       "      <td>Электрочайник Tefal Sense KO693110</td>\n",
       "      <td>9 999 ₽</td>\n",
       "    </tr>\n",
       "    <tr>\n",
       "      <th>8</th>\n",
       "      <td>61b2007bb8d1ab28a80adc0e</td>\n",
       "      <td>https://www.mvideo.ru/products/kofemashina-kap...</td>\n",
       "      <td>Код товара: 2007 0575</td>\n",
       "      <td>Кофемашина капсульного типа Nespresso Vertuo N...</td>\n",
       "      <td>3 999 ₽</td>\n",
       "    </tr>\n",
       "    <tr>\n",
       "      <th>9</th>\n",
       "      <td>61b2007db8d1ab28a80adc10</td>\n",
       "      <td>https://www.mvideo.ru/products/ruchnoi-otpariv...</td>\n",
       "      <td>Код товара: 2007 2378</td>\n",
       "      <td>Ручной отпариватель Philips STH3020/10</td>\n",
       "      <td>6 999 ₽</td>\n",
       "    </tr>\n",
       "  </tbody>\n",
       "</table>\n",
       "</div>"
      ],
      "text/plain": [
       "                        _id  \\\n",
       "0  61b2006eb8d1ab28a80adbfb   \n",
       "1  61b2006fb8d1ab28a80adbfd   \n",
       "2  61b20071b8d1ab28a80adc00   \n",
       "3  61b20073b8d1ab28a80adc02   \n",
       "4  61b20074b8d1ab28a80adc04   \n",
       "5  61b20076b8d1ab28a80adc07   \n",
       "6  61b20078b8d1ab28a80adc09   \n",
       "7  61b2007ab8d1ab28a80adc0b   \n",
       "8  61b2007bb8d1ab28a80adc0e   \n",
       "9  61b2007db8d1ab28a80adc10   \n",
       "\n",
       "                                              Ссылка             Код Товара  \\\n",
       "0  https://www.mvideo.ru/products/noutbuk-acer-sw...  Код товара: 3005 7260   \n",
       "1  https://www.mvideo.ru/products/smartfon-huawei...  Код товара: 3005 3815   \n",
       "2  https://www.mvideo.ru/products/naushniki-true-...  Код товара: 5014 1149   \n",
       "3  https://www.mvideo.ru/products/podpiska-mprime...    Код товара: 6016151   \n",
       "4  https://www.mvideo.ru/products/konvektor-hyund...  Код товара: 2005 5370   \n",
       "5  https://www.mvideo.ru/products/smart-chasy-sam...  Код товара: 3005 1392   \n",
       "6  https://www.mvideo.ru/products/elektrogril-tef...  Код товара: 2003 6709   \n",
       "7  https://www.mvideo.ru/products/elektrochainik-...  Код товара: 2007 4031   \n",
       "8  https://www.mvideo.ru/products/kofemashina-kap...  Код товара: 2007 0575   \n",
       "9  https://www.mvideo.ru/products/ruchnoi-otpariv...  Код товара: 2007 2378   \n",
       "\n",
       "                                            Название      Цена  \n",
       "0    Ноутбук Acer Swift 1 SF114-34-C564 NX.A74ER.002  30 999 ₽  \n",
       "1  Смартфон Huawei P Smart 2021 4+128GB Crush Gre...  30 999 ₽  \n",
       "2  Наушники True Wireless Samsung Galaxy Buds Liv...   9 999 ₽  \n",
       "3          Подписка M.Prime на 1 месяц + Яндекс.Плюс     499 ₽  \n",
       "4                  Конвектор Hyundai H-HV21-15-UI662     499 ₽  \n",
       "5  Смарт-часы Samsung Galaxy Watch3 45mm Черные (...  25 499 ₽  \n",
       "6             Электрогриль Tefal Supergrill GC450B32  25 499 ₽  \n",
       "7                 Электрочайник Tefal Sense KO693110   9 999 ₽  \n",
       "8  Кофемашина капсульного типа Nespresso Vertuo N...   3 999 ₽  \n",
       "9             Ручной отпариватель Philips STH3020/10   6 999 ₽  "
      ]
     },
     "execution_count": 14,
     "metadata": {},
     "output_type": "execute_result"
    }
   ],
   "source": [
    "df.head(10)"
   ]
  },
  {
   "cell_type": "code",
   "execution_count": null,
   "id": "8f03d461",
   "metadata": {},
   "outputs": [],
   "source": []
  }
 ],
 "metadata": {
  "kernelspec": {
   "display_name": "Python 3",
   "language": "python",
   "name": "python3"
  },
  "language_info": {
   "codemirror_mode": {
    "name": "ipython",
    "version": 3
   },
   "file_extension": ".py",
   "mimetype": "text/x-python",
   "name": "python",
   "nbconvert_exporter": "python",
   "pygments_lexer": "ipython3",
   "version": "3.8.8"
  }
 },
 "nbformat": 4,
 "nbformat_minor": 5
}
